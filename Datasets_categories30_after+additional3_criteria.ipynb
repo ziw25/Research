{
 "cells": [
  {
   "cell_type": "code",
   "execution_count": 1,
   "id": "8979c292",
   "metadata": {},
   "outputs": [],
   "source": [
    "import pandas as pd"
   ]
  },
  {
   "cell_type": "code",
   "execution_count": 2,
   "id": "e449001d",
   "metadata": {},
   "outputs": [
    {
     "name": "stderr",
     "output_type": "stream",
     "text": [
      "/home/ziwen/.local/lib/python3.7/site-packages/IPython/core/interactiveshell.py:3553: DtypeWarning: Columns (16,19) have mixed types.Specify dtype option on import or set low_memory=False.\n",
      "  exec(code_obj, self.user_global_ns, self.user_ns)\n"
     ]
    }
   ],
   "source": [
    "df_final = pd.read_csv('df_final.csv') # df_final has already applied criteria"
   ]
  },
  {
   "cell_type": "code",
   "execution_count": 3,
   "id": "f335d12a",
   "metadata": {},
   "outputs": [
    {
     "data": {
      "text/plain": [
       "10527244"
      ]
     },
     "execution_count": 3,
     "metadata": {},
     "output_type": "execute_result"
    }
   ],
   "source": [
    "len(df_final)"
   ]
  },
  {
   "cell_type": "code",
   "execution_count": 4,
   "id": "bff5d3fb",
   "metadata": {},
   "outputs": [],
   "source": [
    "# apply 3 additional criteria: Pregnancies between 37 to 43 weeks’ gestation (exclude OEGest_Comb <37 or >43); \n",
    "# ME_PRES =  1 Cephalic; Hospital birth; BFACIL=1(hospital)\n",
    "df_final2 = df_final.loc[(df_final['OEGest_Comb'] >= 37) & (df_final['OEGest_Comb'] <= 43) & (df_final['ME_PRES'] ==  1) \n",
    "                         & (df_final['BFACIL'] == 1)]"
   ]
  },
  {
   "cell_type": "code",
   "execution_count": 5,
   "id": "4d7cb9c4",
   "metadata": {},
   "outputs": [
    {
     "data": {
      "text/plain": [
       "9156788"
      ]
     },
     "execution_count": 5,
     "metadata": {},
     "output_type": "execute_result"
    }
   ],
   "source": [
    "len(df_final2)"
   ]
  },
  {
   "cell_type": "code",
   "execution_count": 7,
   "id": "6cedf08c",
   "metadata": {},
   "outputs": [],
   "source": [
    "# rename as df_final to generate 30 categories\n",
    "df_final = df_final2"
   ]
  },
  {
   "cell_type": "code",
   "execution_count": 8,
   "id": "d2f93237",
   "metadata": {},
   "outputs": [],
   "source": [
    "c1_final = df_final.loc[(df_final['MRACE15'] == 1) & (df_final['FRACE15'] == 1)]\n",
    "c1_final.to_csv('c1_final.csv')\n",
    "# finished"
   ]
  },
  {
   "cell_type": "code",
   "execution_count": 9,
   "id": "caef055b",
   "metadata": {},
   "outputs": [],
   "source": [
    "c2_final = df_final.loc[(df_final['MRACE15'] == 2) & (df_final['FRACE15'] == 2)]\n",
    "c2_final.to_csv('c2_final.csv')\n",
    "# finished"
   ]
  },
  {
   "cell_type": "code",
   "execution_count": 10,
   "id": "7dad4191",
   "metadata": {},
   "outputs": [],
   "source": [
    "c3_final =  df_final.loc[(df_final['MRACE15'] == 3) & (df_final['FRACE15'] == 3)]\n",
    "c3_final.to_csv('c3_final.csv')\n",
    "# finished"
   ]
  },
  {
   "cell_type": "code",
   "execution_count": 11,
   "id": "6b0e1647",
   "metadata": {},
   "outputs": [],
   "source": [
    "c4_final =  df_final.loc[(df_final['MRACE15'] == 4) & (df_final['FRACE15'] == 4)]\n",
    "c4_final.to_csv('c4_final.csv')\n",
    "# finished"
   ]
  },
  {
   "cell_type": "code",
   "execution_count": 12,
   "id": "446dacb3",
   "metadata": {},
   "outputs": [],
   "source": [
    "c5_final =  df_final.loc[(df_final['MRACE15'] == 5) & (df_final['FRACE15'] == 5)]\n",
    "c5_final.to_csv('c5_final.csv')\n",
    "# finished"
   ]
  },
  {
   "cell_type": "code",
   "execution_count": 13,
   "id": "dc9f1c12",
   "metadata": {},
   "outputs": [],
   "source": [
    "c6_final =  df_final.loc[(df_final['MRACE15'] == 6) & (df_final['FRACE15'] == 6)]\n",
    "c6_final.to_csv('c6_final.csv')\n",
    "# finished"
   ]
  },
  {
   "cell_type": "code",
   "execution_count": 14,
   "id": "a439739f",
   "metadata": {},
   "outputs": [],
   "source": [
    "c7_final =  df_final.loc[(df_final['MRACE15'] == 7) & (df_final['FRACE15'] == 7)]\n",
    "c7_final.to_csv('c7_final.csv')\n",
    "# finished"
   ]
  },
  {
   "cell_type": "code",
   "execution_count": 15,
   "id": "bda91f3d",
   "metadata": {},
   "outputs": [],
   "source": [
    "c8_final =  df_final.loc[(df_final['MRACE15'] == 8) & (df_final['FRACE15'] == 8)]\n",
    "c8_final.to_csv('c8_final.csv')\n",
    "# finished"
   ]
  },
  {
   "cell_type": "code",
   "execution_count": 16,
   "id": "343fd220",
   "metadata": {},
   "outputs": [],
   "source": [
    "c9_final =  df_final.loc[(df_final['MRACE15'] == 9) & (df_final['FRACE15'] == 9)]\n",
    "c9_final.to_csv('c9_final.csv')\n",
    "# finished"
   ]
  },
  {
   "cell_type": "code",
   "execution_count": 17,
   "id": "36e6e58f",
   "metadata": {},
   "outputs": [],
   "source": [
    "c10_final =  df_final.loc[(df_final['MRACE15'] == 10) & (df_final['FRACE15'] == 10)]\n",
    "c10_final.to_csv('c10_final.csv')\n",
    "# finished"
   ]
  },
  {
   "cell_type": "code",
   "execution_count": 18,
   "id": "148964fe",
   "metadata": {},
   "outputs": [],
   "source": [
    "c11_final =  df_final.loc[(df_final['MRACE15'] == 11) & (df_final['FRACE15'] == 11)]\n",
    "c11_final.to_csv('c11_final.csv')\n",
    "# finished"
   ]
  },
  {
   "cell_type": "code",
   "execution_count": 19,
   "id": "c07ddc68",
   "metadata": {},
   "outputs": [],
   "source": [
    "c12_final =  df_final.loc[(df_final['MRACE15'] == 12) & (df_final['FRACE15'] == 12)]\n",
    "c12_final.to_csv('c12_final.csv')\n",
    "# finished"
   ]
  },
  {
   "cell_type": "code",
   "execution_count": 20,
   "id": "79a889a5",
   "metadata": {},
   "outputs": [],
   "source": [
    "c13_final =  df_final.loc[(df_final['MRACE15'] == 13) & (df_final['FRACE15'] == 13)]\n",
    "c13_final.to_csv('c13_final.csv')\n",
    "# finished"
   ]
  },
  {
   "cell_type": "code",
   "execution_count": 21,
   "id": "8d0c5594",
   "metadata": {},
   "outputs": [],
   "source": [
    "c14_final =  df_final.loc[(df_final['MRACE15'] == 14) & (df_final['FRACE15'] == 14)]\n",
    "c14_final.to_csv('c14_final.csv')\n",
    "# finished"
   ]
  },
  {
   "cell_type": "code",
   "execution_count": 22,
   "id": "a85327e1",
   "metadata": {},
   "outputs": [],
   "source": [
    "c15_final =  df_final.loc[(df_final['MRACE15'] == 15) & (df_final['FRACE15'] == 15)]\n",
    "c15_final.to_csv('c15_final.csv')\n",
    "# finished"
   ]
  },
  {
   "cell_type": "code",
   "execution_count": 23,
   "id": "fd6ddf37",
   "metadata": {},
   "outputs": [],
   "source": [
    "c16_final =  df_final.loc[(df_final['MRACE15'] == 1) & (df_final['FRACE15'] != 1) & (df_final['FRACE15'] >= 1) & (df_final['FRACE15'] <= 15)]\n",
    "c16_final.to_csv('c16_final.csv')\n",
    "# finished"
   ]
  },
  {
   "cell_type": "code",
   "execution_count": 24,
   "id": "2b12b912",
   "metadata": {},
   "outputs": [],
   "source": [
    "c17_final =  df_final.loc[(df_final['MRACE15'] == 2) & (df_final['FRACE15'] != 2) & (df_final['FRACE15'] >= 1) & (df_final['FRACE15'] <= 15)]\n",
    "c17_final.to_csv('c17_final.csv')\n",
    "# finished"
   ]
  },
  {
   "cell_type": "code",
   "execution_count": 25,
   "id": "96122697",
   "metadata": {},
   "outputs": [],
   "source": [
    "c18_final =  df_final.loc[(df_final['MRACE15'] == 3) & (df_final['FRACE15'] != 3) & (df_final['FRACE15'] >= 1) & (df_final['FRACE15'] <= 15)]\n",
    "c18_final.to_csv('c18_final.csv')\n",
    "# finished"
   ]
  },
  {
   "cell_type": "code",
   "execution_count": 26,
   "id": "be8c75dd",
   "metadata": {},
   "outputs": [],
   "source": [
    "c19_final =  df_final.loc[(df_final['MRACE15'] == 4) & (df_final['FRACE15'] != 4) & (df_final['FRACE15'] >= 1) & (df_final['FRACE15'] <= 15)]\n",
    "c19_final.to_csv('c19_final.csv')\n",
    "# finished"
   ]
  },
  {
   "cell_type": "code",
   "execution_count": 27,
   "id": "2e7b82e1",
   "metadata": {},
   "outputs": [],
   "source": [
    "c20_final =  df_final.loc[(df_final['MRACE15'] == 5) & (df_final['FRACE15'] != 5) & (df_final['FRACE15'] >= 1) & (df_final['FRACE15'] <= 15)]\n",
    "c20_final.to_csv('c20_final.csv')\n",
    "# finished"
   ]
  },
  {
   "cell_type": "code",
   "execution_count": 28,
   "id": "91e200aa",
   "metadata": {},
   "outputs": [],
   "source": [
    "c21_final =  df_final.loc[(df_final['MRACE15'] == 6) & (df_final['FRACE15'] != 6) & (df_final['FRACE15'] >= 1) & (df_final['FRACE15'] <= 15)]\n",
    "c20_final.to_csv('c21_final.csv')\n",
    "# finished"
   ]
  },
  {
   "cell_type": "code",
   "execution_count": 29,
   "id": "dea28ee4",
   "metadata": {},
   "outputs": [],
   "source": [
    "c22_final =  df_final.loc[(df_final['MRACE15'] == 7) & (df_final['FRACE15'] != 7) & (df_final['FRACE15'] >= 1) & (df_final['FRACE15'] <= 15)]\n",
    "c21_final.to_csv('c22_final.csv')\n",
    "# finished"
   ]
  },
  {
   "cell_type": "code",
   "execution_count": 30,
   "id": "baef35be",
   "metadata": {},
   "outputs": [],
   "source": [
    "c23_final =  df_final.loc[(df_final['MRACE15'] == 8) & (df_final['FRACE15'] != 8) & (df_final['FRACE15'] >= 1) & (df_final['FRACE15'] <= 15)]\n",
    "c23_final.to_csv('c23_final.csv')\n",
    "# finished"
   ]
  },
  {
   "cell_type": "code",
   "execution_count": 31,
   "id": "797cf6ac",
   "metadata": {},
   "outputs": [],
   "source": [
    "c24_final =  df_final.loc[(df_final['MRACE15'] == 9) & (df_final['FRACE15'] != 9) & (df_final['FRACE15'] >= 1) & (df_final['FRACE15'] <= 15)]\n",
    "c24_final.to_csv('c24_final.csv')\n",
    "# finished"
   ]
  },
  {
   "cell_type": "code",
   "execution_count": 32,
   "id": "33cf8920",
   "metadata": {},
   "outputs": [],
   "source": [
    "c25_final =  df_final.loc[(df_final['MRACE15'] == 10) & (df_final['FRACE15'] != 10) & (df_final['FRACE15'] >= 1) & (df_final['FRACE15'] <= 15)]\n",
    "c25_final.to_csv('c25_final.csv')\n",
    "# finished"
   ]
  },
  {
   "cell_type": "code",
   "execution_count": 33,
   "id": "daeaadc6",
   "metadata": {},
   "outputs": [],
   "source": [
    "c26_final =  df_final.loc[(df_final['MRACE15'] == 11) & (df_final['FRACE15'] != 11) & (df_final['FRACE15'] >= 1) & (df_final['FRACE15'] <= 15)]\n",
    "c26_final.to_csv('c26_final.csv')\n",
    "# finished"
   ]
  },
  {
   "cell_type": "code",
   "execution_count": 34,
   "id": "f79cc4f4",
   "metadata": {},
   "outputs": [],
   "source": [
    "c27_final =  df_final.loc[(df_final['MRACE15'] == 12) & (df_final['FRACE15'] != 12) & (df_final['FRACE15'] >= 1) & (df_final['FRACE15'] <= 15)]\n",
    "c27_final.to_csv('c27_final.csv')\n",
    "# finished"
   ]
  },
  {
   "cell_type": "code",
   "execution_count": 35,
   "id": "d1117984",
   "metadata": {},
   "outputs": [],
   "source": [
    "c28_final =  df_final.loc[(df_final['MRACE15'] == 13) & (df_final['FRACE15'] != 13) & (df_final['FRACE15'] >= 1) & (df_final['FRACE15'] <= 15)]\n",
    "c28_final.to_csv('c28_final.csv')\n",
    "# finished"
   ]
  },
  {
   "cell_type": "code",
   "execution_count": 36,
   "id": "e90c965c",
   "metadata": {},
   "outputs": [],
   "source": [
    "c29_final =  df_final.loc[(df_final['MRACE15'] == 14) & (df_final['FRACE15'] != 14) & (df_final['FRACE15'] >= 1) & (df_final['FRACE15'] <= 15)]\n",
    "c29_final.to_csv('c29_final.csv')\n",
    "# finished"
   ]
  },
  {
   "cell_type": "code",
   "execution_count": 37,
   "id": "c92003bb",
   "metadata": {},
   "outputs": [],
   "source": [
    "c30_final =  df_final.loc[(df_final['MRACE15'] == 15) & (df_final['FRACE15'] != 15) & (df_final['FRACE15'] >= 1) & (df_final['FRACE15'] <= 15)]\n",
    "c30_final.to_csv('c30_final.csv')\n",
    "# finished"
   ]
  }
 ],
 "metadata": {
  "kernelspec": {
   "display_name": "Python 3",
   "language": "python",
   "name": "python3"
  },
  "language_info": {
   "codemirror_mode": {
    "name": "ipython",
    "version": 3
   },
   "file_extension": ".py",
   "mimetype": "text/x-python",
   "name": "python",
   "nbconvert_exporter": "python",
   "pygments_lexer": "ipython3",
   "version": "3.7.5"
  }
 },
 "nbformat": 4,
 "nbformat_minor": 5
}
